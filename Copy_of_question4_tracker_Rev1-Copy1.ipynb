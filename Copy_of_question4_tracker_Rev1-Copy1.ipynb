{
 "cells": [
  {
   "cell_type": "code",
   "execution_count": null,
   "metadata": {
    "id": "ikQGpGNdOxp3"
   },
   "outputs": [],
   "source": [
    "# dictionary of category\n",
    "dict_cat = {\n",
    "  1: \"food\",\n",
    "  2: \"utilities\",\n",
    "  3: \"transport\",\n",
    "  4: \"others\"\n",
    "}\n",
    "\n",
    "# format: CYYYYMMDD, where C is 1 digit category\n",
    "dict_exp = { \\\n",
    " 120240219: [[2, \"lunch\"], [4, \"dinner\"]],\n",
    " 220240219: [[8, \"telco\"], [99, \"pub\"]],\n",
    " 320240219: [[10, \"mrt top up\"], [20, \"grab\"]],\n",
    " 320240220: [[7.7, \"taxi\"]],\n",
    " 120240121: [[2.1, \"lunch\"], [4.1, \"dinner\"], [2, \"lunch\"]],\n",
    "}"
   ]
  },
  {
   "cell_type": "code",
   "execution_count": null,
   "metadata": {
    "id": "9wzE8oO1Ebpq"
   },
   "outputs": [],
   "source": [
    "# adding new expenses\n",
    "def log_expenses(dat_input, cat_input, amt_input, des_input, dic_exp = dict_exp):\n",
    "    \n",
    "  new_key = int(cat_input + dat_input)\n",
    "  new_exp = [float(amt_input), des_input]\n",
    "  if new_key in dict_exp.keys() :\n",
    "    dict_exp[new_key].append(new_exp)\n",
    "  else:\n",
    "    dict_exp[new_key] = [new_exp]\n",
    "  return dict_exp"
   ]
  },
  {
   "cell_type": "code",
   "execution_count": null,
   "metadata": {
    "id": "ynDd9U6EaP4b"
   },
   "outputs": [],
   "source": [
    "import re\n",
    "# viewing, Conditionals for filtering search results\n",
    "#Regex for advanced search options (e.g., searching by expense description)\n",
    "def search_by_description(description:str,  dict_exp=dict_exp)->list:\n",
    "  \"\"\"_summary_\n",
    "\n",
    "  Args:\n",
    "      description (str): _description_\n",
    "      dict_exp (_type_, optional): _description_. Defaults to dict_exp.\n",
    "\n",
    "  Returns:\n",
    "      list: _description_\n",
    "  \"\"\"\n",
    "  # print(\"description: \", description)\n",
    "  # print(\"dict_exp: \", dict_exp)\n",
    "\n",
    "  full_details = []\n",
    "  total = 0\n",
    "  for k, v in dict_exp.items():\n",
    "    for amount, des_record in v:\n",
    "      pattern = description\n",
    "      matched = [m for m in re.finditer(pattern, des_record)]\n",
    "      if len(matched)>0:\n",
    "        print(f\"On {str(k)[1:]}, spent ${amount} with description {des_record}\")\n",
    "        full_details.append([k, amount, des_record])\n",
    "        total+=amount\n",
    "\n",
    "  print(f\"Total spent on {description} is ${total}.\")\n",
    "  return full_details"
   ]
  },
  {
   "cell_type": "code",
   "execution_count": null,
   "metadata": {
    "id": "DnpMkSjksJ1i"
   },
   "outputs": [],
   "source": [
    "def search_by_cat(cat, dict_exp=dict_exp):\n",
    "  total = 0\n",
    "  date_amount_des = []\n",
    "  for k,v in dict_exp.items():\n",
    "    if int(str(k)[0]) == cat:\n",
    "      for amount, des in v:\n",
    "        date_amount_des.append([k, amount, des])\n",
    "        print(f\"on {str(k)[1:]}, spent ${amount} with description {des}\")\n",
    "        total+=amount\n",
    "\n",
    "  print(f\"Total spent on category {cat} for {dict_cat[cat]} is ${total} \")\n",
    "  full_details = date_amount_des\n",
    "  return full_details"
   ]
  },
  {
   "cell_type": "code",
   "execution_count": null,
   "metadata": {
    "id": "wwpiUU4AGHKe"
   },
   "outputs": [],
   "source": [
    "def search_by_amount(amount, dict_exp=dict_exp):\n",
    "  full_details = []\n",
    "  total = 0\n",
    "  for k, v in dict_exp.items():\n",
    "    for amount_recorded, des in v:\n",
    "      if amount_recorded == amount:\n",
    "        full_details.append([k, amount, des])\n",
    "        print(f\"on {str(k)[1:]}, spent ${amount_recorded} with description {des}\")\n",
    "        total+=amount\n",
    "\n",
    "  return full_details"
   ]
  },
  {
   "cell_type": "code",
   "execution_count": null,
   "metadata": {
    "id": "-7IJejibEaug"
   },
   "outputs": [],
   "source": [
    "# viewing\n",
    "def view_monthly_summary(mon_input,  dict_exp=dict_exp):\n",
    "\n",
    "    mon_list_key = []\n",
    "    total_exp = 0\n",
    "\n",
    "    for key in dict_exp.keys():\n",
    "        mon_of_key = int(str(key)[5:7]) # Accessing the 6th and 7th digits together\n",
    "        if mon_of_key == mon_input:\n",
    "            mon_list_key.append(key)\n",
    "\n",
    "    i = 0\n",
    "    for key1 in mon_list_key:\n",
    "        i=0\n",
    "        #cat_of_key = int(str(key1)[0])\n",
    "\n",
    "        while i < len(dict_exp[int(key1)]):\n",
    "              # Accessing the 1st digit of a key\n",
    "            exp = dict_exp[int(key1)][i][0] # Accessing the first element (integer or float) of the first nested list\n",
    "            total_exp += exp\n",
    "            i+=1\n",
    "            \n",
    "    month_name = {\n",
    "    1: \"January\",\n",
    "    2: \"February\",\n",
    "    3: \"March\",\n",
    "    4: \"April\",\n",
    "    5: \"May\",\n",
    "    6: \"June\",\n",
    "    7: \"July\",\n",
    "    8: \"August\",\n",
    "    9: \"September\",\n",
    "    10: \"October\",\n",
    "    11: \"November\",\n",
    "    12: \"December\"\n",
    "    }        \n",
    "    \n",
    "    month_print = month_name[mon_input]\n",
    "    \n",
    "    print(f\"Total expense is ${total_exp} for the month of {month_print}\")\n",
    "\n",
    "    return total_exp, mon_input"
   ]
  },
  {
   "cell_type": "code",
   "execution_count": null,
   "metadata": {
    "id": "UGuJcl9g6Xmx"
   },
   "outputs": [],
   "source": [
    "def export_monthly_summary(mon_input):\n",
    "\n",
    "    import os\n",
    "\n",
    "    mon_list_key = []\n",
    "    total_exp = 0\n",
    "\n",
    "    for key in dict_exp.keys():\n",
    "        mon_of_key = int(str(key)[5:7]) # Accessing the 6th and 7th digits together\n",
    "        if mon_of_key == mon_input:\n",
    "            mon_list_key.append(key)\n",
    "\n",
    "    i = 0\n",
    "    for key1 in mon_list_key:\n",
    "        i=0\n",
    "        #cat_of_key = int(str(key1)[0])\n",
    "\n",
    "        while i < len(dict_exp[int(key1)]):\n",
    "            exp = dict_exp[int(key1)][i][0] # Accessing the first element (integer or float) of the first nested list\n",
    "            total_exp += exp\n",
    "            i+=1\n",
    "\n",
    "    month_name = {\n",
    "    1: \"January\",\n",
    "    2: \"February\",\n",
    "    3: \"March\",\n",
    "    4: \"April\",\n",
    "    5: \"May\",\n",
    "    6: \"June\",\n",
    "    7: \"July\",\n",
    "    8: \"August\",\n",
    "    9: \"September\",\n",
    "    10: \"October\",\n",
    "    11: \"November\",\n",
    "    12: \"December\"\n",
    "    }        \n",
    "    \n",
    "    month_print = month_name[mon_input]\n",
    "    \n",
    "    with open('monthly_summary.csv', 'w') as fo: \n",
    "        fo.write(f\"Total expense is ${total_exp} for the month of {month_print}\")\n",
    "    \n",
    "    return total_exp, mon_input"
   ]
  },
  {
   "cell_type": "code",
   "execution_count": null,
   "metadata": {
    "id": "c4xvljG-aa-o"
   },
   "outputs": [],
   "source": [
    "def start_user_process(selected_process):\n",
    "  if selected_process == 1:\n",
    "\n",
    "    #asking for input\n",
    "    dat_input = str(input(\"Enter date of expense in format YYYYMMDD: \"))\n",
    "    if len(dat_input) < 8:\n",
    "        print(\"Please follow YYYYMMDD format! Stop and restart to ensure proper data input\")\n",
    "    if dat_input.isdigit() == False:\n",
    "        print(\"Please follow YYYYMMDD format! Stop and restart to ensure proper data input\")\n",
    "    amt_input = input(\"Enter amount of expense: $\")\n",
    "    if amt_input.isdigit() == False:\n",
    "        print(\"Numbers only field!! Stop and restart to ensure proper data input\")\n",
    "    cat_input = str(input(\"Enter category number: \\n1- food \\n2- utilities \\n3- transport \\n4- others\\ni.e. if the category of expense is transport, input 2: \\n\"))\n",
    "    if cat_input in list(dict_cat.keys()) == False:\n",
    "        print(\"Please input a valid category number input! Stop and restart to ensure proper data input\")\n",
    "    des_input = str(input(\"Enter any description of the expsense e.g. lunch or dinner or bills: \"))\n",
    "\n",
    "    log_expenses(dat_input, cat_input, amt_input, des_input, dic_exp = dict_exp)\n",
    "    print()\n",
    "\n",
    "  elif selected_process == 2:\n",
    "    description = input(\"What description to search? \")\n",
    "    search_by_description(description)\n",
    "    print()\n",
    "\n",
    "  elif selected_process == 3:\n",
    "    cat_input = int(input(\"Enter category number: \\n1- food \\n2- utilities \\n3- transport \\n4- others\\ni.e. if the category of expense is transport, input 2: \\n\"))\n",
    "    search_by_cat(cat_input, dict_exp=dict_exp);\n",
    "    print()\n",
    "\n",
    "  elif selected_process == 4:\n",
    "    amt_input = float(input(\"Enter amount of expense: $\"))\n",
    "    search_by_amount(amt_input, dict_exp=dict_exp);\n",
    "    print()\n",
    "\n",
    "  elif selected_process == 5:\n",
    "    mon_input = int(input(\"Enter month to summarize: \"))\n",
    "    view_monthly_summary(mon_input)\n",
    "    print()\n",
    "\n",
    "  else: # selected_process == 6:\n",
    "    mon_input = int(input(\"Enter month to export: \"))\n",
    "    export_monthly_summary(mon_input)\n",
    "    print(\"export complete!\")\n",
    "    print()\n",
    "\n",
    "# "
   ]
  },
  {
   "cell_type": "code",
   "execution_count": null,
   "metadata": {
    "colab": {
     "base_uri": "https://localhost:8080/",
     "height": 546
    },
    "id": "00JB6S2FuePH",
    "outputId": "b6255650-795c-4436-88a1-4ec50f2354e6",
    "scrolled": true
   },
   "outputs": [],
   "source": [
    "while 1:\n",
    "  selected_process = input(\"Choose process:\\n1- ADD expenses \\n2- SEARCH by description \\n3- SEARCH by category \\n4- SEARCH by amount \\n5- VIEW summary \\n6- EXPORT summary\\nq- Quit\\n\")\n",
    "  if selected_process.lower() == \"q\":\n",
    "    print(\"Quit\")\n",
    "    break\n",
    "  else:\n",
    "    selected_process = int(selected_process)\n",
    "    start_user_process(selected_process)\n"
   ]
  },
  {
   "cell_type": "code",
   "execution_count": null,
   "metadata": {
    "id": "Abi8kSq80DXA"
   },
   "outputs": [],
   "source": []
  }
 ],
 "metadata": {
  "colab": {
   "provenance": []
  },
  "kernelspec": {
   "display_name": "Python 3 (ipykernel)",
   "language": "python",
   "name": "python3"
  },
  "language_info": {
   "codemirror_mode": {
    "name": "ipython",
    "version": 3
   },
   "file_extension": ".py",
   "mimetype": "text/x-python",
   "name": "python",
   "nbconvert_exporter": "python",
   "pygments_lexer": "ipython3",
   "version": "3.11.5"
  }
 },
 "nbformat": 4,
 "nbformat_minor": 1
}
